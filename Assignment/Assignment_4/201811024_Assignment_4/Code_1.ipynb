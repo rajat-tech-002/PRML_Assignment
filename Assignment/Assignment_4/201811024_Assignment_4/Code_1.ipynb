{
 "cells": [
  {
   "cell_type": "markdown",
   "metadata": {},
   "source": [
    "# (1) Draw samples from p(x) = P1.p1(x) + P2.p2(x)\n",
    "# Where, P1 = 0.6, P2 = 0.4, p1(x) ~ N(5,10) and p2(x) ~ N(10,15).\n",
    "# Draw a histogram for the data."
   ]
  },
  {
   "cell_type": "code",
   "execution_count": 2,
   "metadata": {},
   "outputs": [],
   "source": [
    "from scipy.stats import norm\n",
    "import matplotlib.pyplot as plt\n",
    "import numpy as np\n",
    "P1=0.6\n",
    "P2=0.4\n",
    "mu1,mu2,sigma1,sigma2=5,10,np.sqrt(10),np.sqrt(15) \n",
    "s1 = np.random.normal(mu1, sigma1, 20)\n",
    "s2 = np.random.normal(mu2, sigma2, 20)\n",
    "s=P1*s1+P2*s2\n",
    "#s=s1+s2"
   ]
  },
  {
   "cell_type": "code",
   "execution_count": 3,
   "metadata": {},
   "outputs": [
    {
     "data": {
      "text/plain": [
       "array([ 6.69892975,  6.46174403,  9.49629488,  5.41737821,  9.42590136,\n",
       "        7.09204898,  5.67246084,  6.29681806,  6.15337758,  8.65862904,\n",
       "        9.00941734,  2.11729413,  6.90987955,  7.62671027,  6.85157544,\n",
       "        6.78576473,  5.99316177,  7.53568238,  3.24450021, 10.57750392])"
      ]
     },
     "execution_count": 3,
     "metadata": {},
     "output_type": "execute_result"
    }
   ],
   "source": [
    "s[0:50]"
   ]
  },
  {
   "cell_type": "code",
   "execution_count": 4,
   "metadata": {},
   "outputs": [
    {
     "name": "stdout",
     "output_type": "stream",
     "text": [
      "[2. 0. 2. 8. 3. 2. 3.]\n",
      "[ 2.11729413  3.32589553  4.53449692  5.74309832  6.95169972  8.16030112\n",
      "  9.36890252 10.57750392]\n",
      "<a list of 7 Patch objects>\n"
     ]
    },
    {
     "data": {
      "image/png": "[encoded data removed]",
      "text/plain": [
       "<Figure size 432x288 with 1 Axes>"
      ]
     },
     "metadata": {
      "needs_background": "light"
     },
     "output_type": "display_data"
    }
   ],
   "source": [
    "n, bins, patches = plt.hist(x=s, bins='auto', color='#0504aa',alpha=0.7, rwidth=0.85)\n",
    "plt.grid(axis='y', alpha=0.75)\n",
    "plt.xlabel('Value')\n",
    "plt.ylabel('Frequency')\n",
    "plt.title('Histogram')\n",
    "print(n)\n",
    "print(bins)\n",
    "print(patches)"
   ]
  },
  {
   "cell_type": "code",
   "execution_count": 5,
   "metadata": {},
   "outputs": [],
   "source": [
    "# https://jakevdp.github.io/PythonDataScienceHandbook/05.13-kernel-density-estimation.htmlc  "
   ]
  },
  {
   "cell_type": "code",
   "execution_count": null,
   "metadata": {},
   "outputs": [],
   "source": []
  }
 ],
 "metadata": {
  "kernelspec": {
   "display_name": "Python 3",
   "language": "python",
   "name": "python3"
  },
  "language_info": {
   "codemirror_mode": {
    "name": "ipython",
    "version": 3
   },
   "file_extension": ".py",
   "mimetype": "text/x-python",
   "name": "python",
   "nbconvert_exporter": "python",
   "pygments_lexer": "ipython3",
   "version": "3.7.0"
  }
 },
 "nbformat": 4,
 "nbformat_minor": 2
}
