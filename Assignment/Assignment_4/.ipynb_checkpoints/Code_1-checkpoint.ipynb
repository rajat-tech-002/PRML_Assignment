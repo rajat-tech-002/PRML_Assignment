{
 "cells": [
  {
   "cell_type": "code",
   "execution_count": 1,
   "metadata": {},
   "outputs": [],
   "source": [
    "#(1) Draw samples from p(x) = P1.p1(x) + P2.p2(x)\n",
    "#Where, P1 = 0.6, P2 = 0.4, p1(x) ~ N(5,10) and p2(x) ~ N(10,15).\n",
    "#Draw a histogram for the data."
   ]
  },
  {
   "cell_type": "code",
   "execution_count": 42,
   "metadata": {},
   "outputs": [],
   "source": [
    "from scipy.stats import norm\n",
    "import matplotlib.pyplot as plt\n",
    "import numpy as np\n",
    "P1=0.6\n",
    "P2=0.4\n",
    "mu1,mu2,sigma1,sigma2=5,10,np.sqrt(10),np.sqrt(15) \n",
    "s1 = np.random.normal(mu1, sigma1, 20)\n",
    "s2 = np.random.normal(mu2, sigma2, 20)\n",
    "#s=P1*s1+P2*s2\n",
    "s=s1+s2"
   ]
  },
  {
   "cell_type": "code",
   "execution_count": 43,
   "metadata": {},
   "outputs": [
    {
     "data": {
      "text/plain": [
       "array([21.20366695, 15.6583049 , 21.35357429, 12.00268586, 11.35371069,\n",
       "        9.70014143, 12.17573885, 20.26075284, 22.41903311,  4.79339444,\n",
       "       13.36868889, 12.61197671, 16.69357753, 12.07526818, 21.60015392,\n",
       "       10.53984927, 24.26148029,  4.0580444 , 19.63841556, -0.35114137])"
      ]
     },
     "execution_count": 43,
     "metadata": {},
     "output_type": "execute_result"
    }
   ],
   "source": [
    "s[0:50]"
   ]
  },
  {
   "cell_type": "code",
   "execution_count": 55,
   "metadata": {},
   "outputs": [
    {
     "name": "stdout",
     "output_type": "stream",
     "text": [
      "[1. 2. 3. 6. 2. 6.]\n",
      "[-0.35114137  3.75096224  7.85306585 11.95516946 16.05727307 20.15937668\n",
      " 24.26148029]\n",
      "<a list of 6 Patch objects>\n"
     ]
    },
    {
     "data": {
      "image/png": "[encoded data removed]",
      "text/plain": [
       "<Figure size 432x288 with 1 Axes>"
      ]
     },
     "metadata": {
      "needs_background": "light"
     },
     "output_type": "display_data"
    }
   ],
   "source": [
    "n, bins, patches = plt.hist(x=s, bins='auto', color='#0504aa',alpha=0.7, rwidth=0.85)\n",
    "plt.grid(axis='y', alpha=0.75)\n",
    "plt.xlabel('Value')\n",
    "plt.ylabel('Frequency')\n",
    "plt.title('Histogram')\n",
    "print(n)\n",
    "print(bins)\n",
    "print(patches)"
   ]
  },
  {
   "cell_type": "code",
   "execution_count": null,
   "metadata": {},
   "outputs": [],
   "source": [
    "# https://jakevdp.github.io/PythonDataScienceHandbook/05.13-kernel-density-estimation.htmlc  "
   ]
  },
  {
   "cell_type": "code",
   "execution_count": null,
   "metadata": {},
   "outputs": [],
   "source": []
  }
 ],
 "metadata": {
  "kernelspec": {
   "display_name": "Python 3",
   "language": "python",
   "name": "python3"
  },
  "language_info": {
   "codemirror_mode": {
    "name": "ipython",
    "version": 3
   },
   "file_extension": ".py",
   "mimetype": "text/x-python",
   "name": "python",
   "nbconvert_exporter": "python",
   "pygments_lexer": "ipython3",
   "version": "3.7.0"
  }
 },
 "nbformat": 4,
 "nbformat_minor": 2
}
