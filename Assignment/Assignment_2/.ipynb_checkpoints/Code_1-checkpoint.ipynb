{
 "cells": [
  {
   "cell_type": "code",
   "execution_count": null,
   "metadata": {},
   "outputs": [],
   "source": [
    "from scipy.stats import norm\n",
    "import matplotlib.pyplot as plt\n",
    "import numpy as np\n",
    "mu1,mu2,sigma1,sigma2=10,20,20,25 \n",
    "s1 = np.random.normal(mu1, sigma1, 200)\n",
    "s2 = np.random.normal(mu2, sigma2, 200)\n",
    "\n",
    "fig = plt.figure(figsize=(8,5))\n",
    "ax = fig.add_subplot(111)\n",
    "ax.set_title('Univariate Normal Distribution(1000 Samples)')\n",
    "ax.set_xlabel('Bins/Edes')\n",
    "ax.set_ylabel('Probability ')\n",
    "count, bins, ignored = plt.hist(s, 30, density=True,label='Histogram')\n",
    "var=1/(sigma * np.sqrt(2 * np.pi)) *np.exp( - (s - mu)**2 / (2 * sigma**2) )\n",
    "#plt.plot(bins,var,linewidth=2, color='g')\n",
    "#plt.plot(s,var,marker='o',color='r',linestyle='none')\n",
    "plt.plot(bins,norm.pdf(bins),'b-', lw=3,  label='Norm pdf')\n",
    "plt.legend(loc='upper left')\n",
    "plt.show()\n",
    "\n"
   ]
  }
 ],
 "metadata": {
  "kernelspec": {
   "display_name": "Python 3",
   "language": "python",
   "name": "python3"
  },
  "language_info": {
   "codemirror_mode": {
    "name": "ipython",
    "version": 3
   },
   "file_extension": ".py",
   "mimetype": "text/x-python",
   "name": "python",
   "nbconvert_exporter": "python",
   "pygments_lexer": "ipython3",
   "version": "3.7.0"
  }
 },
 "nbformat": 4,
 "nbformat_minor": 2
}
