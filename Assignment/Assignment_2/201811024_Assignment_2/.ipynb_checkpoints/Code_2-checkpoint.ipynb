{
 "cells": [
  {
   "cell_type": "code",
   "execution_count": 1,
   "metadata": {},
   "outputs": [
    {
     "name": "stdout",
     "output_type": "stream",
     "text": [
      "Classes of 40 Samples using 0.3,0.5,0.2 as apriori probabilities:\n",
      "\n",
      "class:N(10,15)\n",
      "class:N(10,15)\n",
      "class:N(10,15)\n",
      "class:N(10,15)\n",
      "class:N(10,15)\n",
      "class:N(10,15)\n",
      "class:N(10,15)\n",
      "class:N(10,15)\n",
      "class:N(10,15)\n",
      "class:N(10,15)\n",
      "class:N(10,15)\n",
      "class:N(10,15)\n",
      "class:N(10,15)\n",
      "class:N(10,15)\n",
      "class:N(10,15)\n",
      "class:N(10,15)\n",
      "class:N(10,15)\n",
      "class:N(10,15)\n",
      "class:N(10,15)\n",
      "class:N(10,15)\n",
      "class:N(10,15)\n",
      "class:N(10,15)\n",
      "class:N(10,15)\n",
      "class:N(10,15)\n",
      "class:N(10,15)\n",
      "class:N(10,15)\n",
      "class:N(10,15)\n",
      "class:N(10,15)\n",
      "class:N(10,15)\n",
      "class:N(10,15)\n",
      "class:N(10,15)\n",
      "class:N(10,15)\n",
      "class:N(10,15)\n",
      "class:N(10,15)\n",
      "class:N(10,15)\n",
      "class:N(10,15)\n",
      "class:N(10,15)\n",
      "class:N(10,15)\n",
      "class:N(10,15)\n",
      "class:N(10,15)\n"
     ]
    }
   ],
   "source": [
    "import numpy as np\n",
    "import matplotlib.pyplot as plt\n",
    "from random import randint\n",
    "p1=0.3\n",
    "p2=0.5\n",
    "p3=0.2\n",
    "samples1=np.random.normal(5,np.sqrt(20),size=200)\n",
    "samples2=np.random.normal(10,np.sqrt(15),size=200)\n",
    "samples3=np.random.normal(20,np.sqrt(25),size=200)\n",
    "samples1_mean=np.mean(samples1)\n",
    "samples2_mean=np.mean(samples2)\n",
    "samples3_mean=np.mean(samples3)\n",
    "samples1_var=np.var(samples1)\n",
    "samples2_var=np.var(samples2)\n",
    "samples3_var=np.var(samples3)\n",
    "samples_40=np.random.randint(0,15,size=40)\n",
    "pdf1=1/(samples1_var*np.sqrt(2*np.pi))*np.exp(-(samples_40-samples1_mean)**2/(2*samples1_var**2))\n",
    "pdf2=1/(samples2_var*np.sqrt(2*np.pi))*np.exp(-(samples_40-samples2_mean)**2/(2*samples2_var**2))\n",
    "pdf3=1/(samples3_var*np.sqrt(2*np.pi))*np.exp(-(samples_40-samples3_mean)**2/(2*samples3_var**2))\n",
    "set=[]\n",
    "for i,j,k in zip(pdf1,pdf2,pdf3):\n",
    "    A = i * p1\n",
    "    B = j * p2\n",
    "    C = k * p3\n",
    "    if(A>=B and A>=C):\n",
    "        set.append('class:N(5,20)')\n",
    "    elif(B>=A and B>=C):\n",
    "        set.append('class:N(10,15)')\n",
    "    else:\n",
    "        set.append('class:N(20,25)')\n",
    "print('Classes of 40 Samples using '+str(p1)+','+str(p2)+','+str(p3)+' as apriori probabilities:\\n',*set,sep='\\n')"
   ]
  },
  {
   "cell_type": "code",
   "execution_count": null,
   "metadata": {},
   "outputs": [],
   "source": []
  }
 ],
 "metadata": {
  "kernelspec": {
   "display_name": "Python 3",
   "language": "python",
   "name": "python3"
  },
  "language_info": {
   "codemirror_mode": {
    "name": "ipython",
    "version": 3
   },
   "file_extension": ".py",
   "mimetype": "text/x-python",
   "name": "python",
   "nbconvert_exporter": "python",
   "pygments_lexer": "ipython3",
   "version": "3.7.0"
  }
 },
 "nbformat": 4,
 "nbformat_minor": 2
}
